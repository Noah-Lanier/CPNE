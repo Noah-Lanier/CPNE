{
 "cells": [
  {
   "cell_type": "markdown",
   "metadata": {},
   "source": [
    "### Current Version of Features"
   ]
  },
  {
   "cell_type": "markdown",
   "metadata": {},
   "source": [
    "We want to use directed spectrum on all projects where we are identifying brain networks. It is ok to exclude sleep from this since we just want evidence that we do not want to have to implant EMG. The directed spectrum is Neil Gallagher's PhD thesis project. It gives us a measure of directed communication that we can use with linear latent factor models. Essentially, before this, one could not find brain networks with directed communication using this very common, well-supported method that our lab uses."
   ]
  },
  {
   "cell_type": "markdown",
   "metadata": {},
   "source": [
    "The particulars of the DS feature calculation are the following. When preprocess data, you have to specify what features and the version of those features that you want. Going forward, we calculate two different features: power and directed spectrum. The version for both of these is \"directed_spectrum_1.0\". Note, this leaves out the coherence feature, we do not calculate that anymore."
   ]
  },
  {
   "cell_type": "markdown",
   "metadata": {},
   "source": [
    "While Neil is currently working on a way to generate these features in python, for now all we have is the matlab version. It works the same as the matlab version of calcualting the previous features; however, there are a couple differences still. First, calcualting the directed spectrum can take a long time. While something used to take a couple of hours to calculate features, now it takes a couple of days. Second, there are two errors that we are working on. The first is being careful about the feature version changing something in Welch's method. The second is the transfer function not converging. Hunter is working on that."
   ]
  }
 ],
 "metadata": {
  "kernelspec": {
   "display_name": "Python 3",
   "language": "python",
   "name": "python3"
  },
  "language_info": {
   "codemirror_mode": {
    "name": "ipython",
    "version": 3
   },
   "file_extension": ".py",
   "mimetype": "text/x-python",
   "name": "python",
   "nbconvert_exporter": "python",
   "pygments_lexer": "ipython3",
   "version": "3.7.8"
  }
 },
 "nbformat": 4,
 "nbformat_minor": 4
}
